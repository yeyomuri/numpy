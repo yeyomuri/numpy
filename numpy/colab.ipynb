{
  "nbformat": 4,
  "nbformat_minor": 0,
  "metadata": {
    "colab": {
      "name": "numpy.ipynb",
      "provenance": [],
      "authorship_tag": "ABX9TyN6UNpGuViYYqH/J2WylKii",
      "include_colab_link": true
    },
    "kernelspec": {
      "name": "python3",
      "display_name": "Python 3"
    },
    "language_info": {
      "name": "python"
    }
  },
  "cells": [
    {
      "cell_type": "markdown",
      "metadata": {
        "id": "view-in-github",
        "colab_type": "text"
      },
      "source": [
        "<a href=\"https://colab.research.google.com/github/yeyomuri/numpy/blob/main/numpy/colab.ipynb\" target=\"_parent\"><img src=\"https://colab.research.google.com/assets/colab-badge.svg\" alt=\"Open In Colab\"/></a>"
      ]
    },
    {
      "cell_type": "markdown",
      "source": [
        "##Numpy\n",
        "\n",
        "Numpy es una libreria que nos permite gestionar vectores, matrices.\n",
        "\n",
        "A diferencia de las listas de Python, Numpy nos permite que nuestras listas sean staticas y no dinamicas. Esto va permitir optimizar nuestros arreglos ocupando menos espacio de memoria.\n",
        "\n",
        "El implementacion de numpy es vectorizada, facilitando la redundancia de crear ciclos dando como resultado menos lineas de código y menos erres de escritura\n",
        "\n",
        "La documentacion oficial esta en [Numpy](https://numpy.org/), y la guia rapida esta en [Guia Rapida](https://numpy.org/doc/stable/user/quickstart.html)\n"
      ],
      "metadata": {
        "id": "Iqq3AfQH66x7"
      }
    },
    {
      "cell_type": "code",
      "source": [
        "import numpy as np\n"
      ],
      "metadata": {
        "id": "C3XIKFc47OSi"
      },
      "execution_count": 63,
      "outputs": []
    },
    {
      "cell_type": "code",
      "source": [
        "#Creacion de un una matriz (2, 3)\n",
        "\n",
        "[[3,3,5], [3, 2, 1]]"
      ],
      "metadata": {
        "colab": {
          "base_uri": "https://localhost:8080/"
        },
        "id": "SOsKD6SK7rLW",
        "outputId": "3c72e19a-55ff-4e14-95fa-bfd4cee22eea"
      },
      "execution_count": 64,
      "outputs": [
        {
          "output_type": "execute_result",
          "data": {
            "text/plain": [
              "[[3, 3, 5], [3, 2, 1]]"
            ]
          },
          "metadata": {},
          "execution_count": 64
        }
      ]
    },
    {
      "cell_type": "code",
      "source": [
        "a = np.arange(15).reshape(3, 5)\n",
        "a"
      ],
      "metadata": {
        "colab": {
          "base_uri": "https://localhost:8080/"
        },
        "id": "RKKJKZXAHdri",
        "outputId": "6513f99b-6f26-4ee3-de62-dae557ff135b"
      },
      "execution_count": 65,
      "outputs": [
        {
          "output_type": "execute_result",
          "data": {
            "text/plain": [
              "array([[ 0,  1,  2,  3,  4],\n",
              "       [ 5,  6,  7,  8,  9],\n",
              "       [10, 11, 12, 13, 14]])"
            ]
          },
          "metadata": {},
          "execution_count": 65
        }
      ]
    },
    {
      "cell_type": "code",
      "source": [
        "a.shape"
      ],
      "metadata": {
        "colab": {
          "base_uri": "https://localhost:8080/"
        },
        "id": "zicjnjZmHsZc",
        "outputId": "4237a903-604a-458f-a204-d55b564a7096"
      },
      "execution_count": 66,
      "outputs": [
        {
          "output_type": "execute_result",
          "data": {
            "text/plain": [
              "(3, 5)"
            ]
          },
          "metadata": {},
          "execution_count": 66
        }
      ]
    },
    {
      "cell_type": "code",
      "source": [
        "a.dtype.name"
      ],
      "metadata": {
        "colab": {
          "base_uri": "https://localhost:8080/",
          "height": 36
        },
        "id": "xBMvW9ZAHt1m",
        "outputId": "f7231727-1607-4f3c-8302-7516689b7eb5"
      },
      "execution_count": 67,
      "outputs": [
        {
          "output_type": "execute_result",
          "data": {
            "application/vnd.google.colaboratory.intrinsic+json": {
              "type": "string"
            },
            "text/plain": [
              "'int64'"
            ]
          },
          "metadata": {},
          "execution_count": 67
        }
      ]
    },
    {
      "cell_type": "code",
      "source": [
        "#Representa el tamaño en bytes del tipo de dato del arreglo int64 bit es equibalente a 8 ó (64/8)\n",
        "a.itemsize "
      ],
      "metadata": {
        "colab": {
          "base_uri": "https://localhost:8080/"
        },
        "id": "cMmW2y1fH4Nu",
        "outputId": "1e3326f1-4e67-44e0-96cf-e772a9141ee8"
      },
      "execution_count": 68,
      "outputs": [
        {
          "output_type": "execute_result",
          "data": {
            "text/plain": [
              "8"
            ]
          },
          "metadata": {},
          "execution_count": 68
        }
      ]
    },
    {
      "cell_type": "code",
      "source": [
        "a.size"
      ],
      "metadata": {
        "colab": {
          "base_uri": "https://localhost:8080/"
        },
        "id": "89NGxM5OH8MT",
        "outputId": "9b580c6e-fa5f-4cb8-eb0a-8976603d092c"
      },
      "execution_count": 69,
      "outputs": [
        {
          "output_type": "execute_result",
          "data": {
            "text/plain": [
              "15"
            ]
          },
          "metadata": {},
          "execution_count": 69
        }
      ]
    },
    {
      "cell_type": "code",
      "source": [
        "  type(a)"
      ],
      "metadata": {
        "colab": {
          "base_uri": "https://localhost:8080/"
        },
        "id": "V2OuIBT6JQ8g",
        "outputId": "85d4b3ff-e7b7-4323-df19-217e72f92151"
      },
      "execution_count": 70,
      "outputs": [
        {
          "output_type": "execute_result",
          "data": {
            "text/plain": [
              "numpy.ndarray"
            ]
          },
          "metadata": {},
          "execution_count": 70
        }
      ]
    },
    {
      "cell_type": "code",
      "source": [
        "b = np.array([5,4,3])\n",
        "b"
      ],
      "metadata": {
        "colab": {
          "base_uri": "https://localhost:8080/"
        },
        "id": "Dc7Bb6kUJ5SL",
        "outputId": "b7b9b56d-08e7-4aec-b1c2-9070975f51e2"
      },
      "execution_count": 71,
      "outputs": [
        {
          "output_type": "execute_result",
          "data": {
            "text/plain": [
              "array([5, 4, 3])"
            ]
          },
          "metadata": {},
          "execution_count": 71
        }
      ]
    },
    {
      "cell_type": "code",
      "source": [
        "type(b)"
      ],
      "metadata": {
        "colab": {
          "base_uri": "https://localhost:8080/"
        },
        "id": "DGFtkzNgKH8y",
        "outputId": "7fe4005a-f0c2-4f10-dedc-d8c157a5448b"
      },
      "execution_count": 72,
      "outputs": [
        {
          "output_type": "execute_result",
          "data": {
            "text/plain": [
              "numpy.ndarray"
            ]
          },
          "metadata": {},
          "execution_count": 72
        }
      ]
    },
    {
      "cell_type": "markdown",
      "source": [
        "##Creación de array"
      ],
      "metadata": {
        "id": "9zGxINwoKzJd"
      }
    },
    {
      "cell_type": "code",
      "source": [
        "a = np.array([2,3,4])\n",
        "a.dtype"
      ],
      "metadata": {
        "colab": {
          "base_uri": "https://localhost:8080/"
        },
        "id": "rdwkkkBlK2ZQ",
        "outputId": "da73e0fe-41e5-4a65-ed5f-6b7ec580ff21"
      },
      "execution_count": 73,
      "outputs": [
        {
          "output_type": "execute_result",
          "data": {
            "text/plain": [
              "dtype('int64')"
            ]
          },
          "metadata": {},
          "execution_count": 73
        }
      ]
    },
    {
      "cell_type": "code",
      "source": [
        "b = np.array([2.4, 3.2, 5.4])\n",
        "b.dtype"
      ],
      "metadata": {
        "colab": {
          "base_uri": "https://localhost:8080/"
        },
        "id": "7GIvj8iwK98T",
        "outputId": "a2fb300b-4194-4e3e-b80c-59d1ede00647"
      },
      "execution_count": 74,
      "outputs": [
        {
          "output_type": "execute_result",
          "data": {
            "text/plain": [
              "dtype('float64')"
            ]
          },
          "metadata": {},
          "execution_count": 74
        }
      ]
    },
    {
      "cell_type": "code",
      "source": [
        "#Arreglo secuencia de secuencia de secuencia\n",
        "b = np.array([(3,2,1), (6,4,7)])\n",
        "b"
      ],
      "metadata": {
        "colab": {
          "base_uri": "https://localhost:8080/"
        },
        "id": "6FLLzH_qLE2s",
        "outputId": "5d003bfe-fe2f-4c56-a720-06f8f00ebc78"
      },
      "execution_count": 75,
      "outputs": [
        {
          "output_type": "execute_result",
          "data": {
            "text/plain": [
              "array([[3, 2, 1],\n",
              "       [6, 4, 7]])"
            ]
          },
          "metadata": {},
          "execution_count": 75
        }
      ]
    },
    {
      "cell_type": "code",
      "source": [
        "b = np.array([(3,4,6), (6,7,4)], dtype = complex)\n",
        "b"
      ],
      "metadata": {
        "colab": {
          "base_uri": "https://localhost:8080/"
        },
        "id": "5hU49zCaL-Bc",
        "outputId": "be8e6a0f-f3ef-4a86-e37c-50df5e085ba7"
      },
      "execution_count": 76,
      "outputs": [
        {
          "output_type": "execute_result",
          "data": {
            "text/plain": [
              "array([[3.+0.j, 4.+0.j, 6.+0.j],\n",
              "       [6.+0.j, 7.+0.j, 4.+0.j]])"
            ]
          },
          "metadata": {},
          "execution_count": 76
        }
      ]
    },
    {
      "cell_type": "code",
      "source": [
        "#Creando una matriz de ceros\n",
        "np.zeros((3,4), dtype = np.int8)"
      ],
      "metadata": {
        "colab": {
          "base_uri": "https://localhost:8080/"
        },
        "id": "69z5jfdxMVpB",
        "outputId": "2b80fc77-a3c9-4a67-ef66-e2e603ea3d18"
      },
      "execution_count": 77,
      "outputs": [
        {
          "output_type": "execute_result",
          "data": {
            "text/plain": [
              "array([[0, 0, 0, 0],\n",
              "       [0, 0, 0, 0],\n",
              "       [0, 0, 0, 0]], dtype=int8)"
            ]
          },
          "metadata": {},
          "execution_count": 77
        }
      ]
    },
    {
      "cell_type": "code",
      "source": [
        "#Arreglo de arreglo\n",
        "a = np.ones((4, 3, 4), dtype = np.int16)\n",
        "a"
      ],
      "metadata": {
        "colab": {
          "base_uri": "https://localhost:8080/"
        },
        "id": "Cmoh-OsFNPyQ",
        "outputId": "edeecba2-8409-4263-f72f-d5ef564c18d2"
      },
      "execution_count": 78,
      "outputs": [
        {
          "output_type": "execute_result",
          "data": {
            "text/plain": [
              "array([[[1, 1, 1, 1],\n",
              "        [1, 1, 1, 1],\n",
              "        [1, 1, 1, 1]],\n",
              "\n",
              "       [[1, 1, 1, 1],\n",
              "        [1, 1, 1, 1],\n",
              "        [1, 1, 1, 1]],\n",
              "\n",
              "       [[1, 1, 1, 1],\n",
              "        [1, 1, 1, 1],\n",
              "        [1, 1, 1, 1]],\n",
              "\n",
              "       [[1, 1, 1, 1],\n",
              "        [1, 1, 1, 1],\n",
              "        [1, 1, 1, 1]]], dtype=int16)"
            ]
          },
          "metadata": {},
          "execution_count": 78
        }
      ]
    },
    {
      "cell_type": "code",
      "source": [
        "#Matriz de nulos \n",
        "np.empty((2, 3))\n"
      ],
      "metadata": {
        "colab": {
          "base_uri": "https://localhost:8080/"
        },
        "id": "91I9F1ZzNl_o",
        "outputId": "d0b1829a-0f8f-48e8-8a92-a1f219569799"
      },
      "execution_count": 79,
      "outputs": [
        {
          "output_type": "execute_result",
          "data": {
            "text/plain": [
              "array([[0., 0., 0.],\n",
              "       [0., 0., 0.]])"
            ]
          },
          "metadata": {},
          "execution_count": 79
        }
      ]
    },
    {
      "cell_type": "code",
      "source": [
        "#Generador de valores (arange)\n",
        "np.arange(10, 100, 3)"
      ],
      "metadata": {
        "colab": {
          "base_uri": "https://localhost:8080/"
        },
        "id": "a4lTaXFsOyyn",
        "outputId": "f0440f35-c086-4be3-eb5a-fdd9a4f55478"
      },
      "execution_count": 80,
      "outputs": [
        {
          "output_type": "execute_result",
          "data": {
            "text/plain": [
              "array([10, 13, 16, 19, 22, 25, 28, 31, 34, 37, 40, 43, 46, 49, 52, 55, 58,\n",
              "       61, 64, 67, 70, 73, 76, 79, 82, 85, 88, 91, 94, 97])"
            ]
          },
          "metadata": {},
          "execution_count": 80
        }
      ]
    },
    {
      "cell_type": "code",
      "source": [
        "#Generador distribuye numero de valores en un rango (linspace)\n",
        "np.linspace(0, 2, 90)"
      ],
      "metadata": {
        "colab": {
          "base_uri": "https://localhost:8080/"
        },
        "id": "-SyWzfeFPZms",
        "outputId": "f59f09e3-cb8a-4a66-c1fa-0af662d629a9"
      },
      "execution_count": 81,
      "outputs": [
        {
          "output_type": "execute_result",
          "data": {
            "text/plain": [
              "array([0.        , 0.02247191, 0.04494382, 0.06741573, 0.08988764,\n",
              "       0.11235955, 0.13483146, 0.15730337, 0.17977528, 0.20224719,\n",
              "       0.2247191 , 0.24719101, 0.26966292, 0.29213483, 0.31460674,\n",
              "       0.33707865, 0.35955056, 0.38202247, 0.40449438, 0.42696629,\n",
              "       0.4494382 , 0.47191011, 0.49438202, 0.51685393, 0.53932584,\n",
              "       0.56179775, 0.58426966, 0.60674157, 0.62921348, 0.65168539,\n",
              "       0.6741573 , 0.69662921, 0.71910112, 0.74157303, 0.76404494,\n",
              "       0.78651685, 0.80898876, 0.83146067, 0.85393258, 0.87640449,\n",
              "       0.8988764 , 0.92134831, 0.94382022, 0.96629213, 0.98876404,\n",
              "       1.01123596, 1.03370787, 1.05617978, 1.07865169, 1.1011236 ,\n",
              "       1.12359551, 1.14606742, 1.16853933, 1.19101124, 1.21348315,\n",
              "       1.23595506, 1.25842697, 1.28089888, 1.30337079, 1.3258427 ,\n",
              "       1.34831461, 1.37078652, 1.39325843, 1.41573034, 1.43820225,\n",
              "       1.46067416, 1.48314607, 1.50561798, 1.52808989, 1.5505618 ,\n",
              "       1.57303371, 1.59550562, 1.61797753, 1.64044944, 1.66292135,\n",
              "       1.68539326, 1.70786517, 1.73033708, 1.75280899, 1.7752809 ,\n",
              "       1.79775281, 1.82022472, 1.84269663, 1.86516854, 1.88764045,\n",
              "       1.91011236, 1.93258427, 1.95505618, 1.97752809, 2.        ])"
            ]
          },
          "metadata": {},
          "execution_count": 81
        }
      ]
    },
    {
      "cell_type": "code",
      "source": [
        "from numpy import pi\n",
        "x = np.linspace(0, pi, 100)\n",
        "f = np.sin(x)\n",
        "f"
      ],
      "metadata": {
        "colab": {
          "base_uri": "https://localhost:8080/"
        },
        "id": "rmJhIZOZPdrW",
        "outputId": "f3382e97-3658-43e1-c56e-4eb59b564371"
      },
      "execution_count": 82,
      "outputs": [
        {
          "output_type": "execute_result",
          "data": {
            "text/plain": [
              "array([0.00000000e+00, 3.17279335e-02, 6.34239197e-02, 9.50560433e-02,\n",
              "       1.26592454e-01, 1.58001396e-01, 1.89251244e-01, 2.20310533e-01,\n",
              "       2.51147987e-01, 2.81732557e-01, 3.12033446e-01, 3.42020143e-01,\n",
              "       3.71662456e-01, 4.00930535e-01, 4.29794912e-01, 4.58226522e-01,\n",
              "       4.86196736e-01, 5.13677392e-01, 5.40640817e-01, 5.67059864e-01,\n",
              "       5.92907929e-01, 6.18158986e-01, 6.42787610e-01, 6.66769001e-01,\n",
              "       6.90079011e-01, 7.12694171e-01, 7.34591709e-01, 7.55749574e-01,\n",
              "       7.76146464e-01, 7.95761841e-01, 8.14575952e-01, 8.32569855e-01,\n",
              "       8.49725430e-01, 8.66025404e-01, 8.81453363e-01, 8.95993774e-01,\n",
              "       9.09631995e-01, 9.22354294e-01, 9.34147860e-01, 9.45000819e-01,\n",
              "       9.54902241e-01, 9.63842159e-01, 9.71811568e-01, 9.78802446e-01,\n",
              "       9.84807753e-01, 9.89821442e-01, 9.93838464e-01, 9.96854776e-01,\n",
              "       9.98867339e-01, 9.99874128e-01, 9.99874128e-01, 9.98867339e-01,\n",
              "       9.96854776e-01, 9.93838464e-01, 9.89821442e-01, 9.84807753e-01,\n",
              "       9.78802446e-01, 9.71811568e-01, 9.63842159e-01, 9.54902241e-01,\n",
              "       9.45000819e-01, 9.34147860e-01, 9.22354294e-01, 9.09631995e-01,\n",
              "       8.95993774e-01, 8.81453363e-01, 8.66025404e-01, 8.49725430e-01,\n",
              "       8.32569855e-01, 8.14575952e-01, 7.95761841e-01, 7.76146464e-01,\n",
              "       7.55749574e-01, 7.34591709e-01, 7.12694171e-01, 6.90079011e-01,\n",
              "       6.66769001e-01, 6.42787610e-01, 6.18158986e-01, 5.92907929e-01,\n",
              "       5.67059864e-01, 5.40640817e-01, 5.13677392e-01, 4.86196736e-01,\n",
              "       4.58226522e-01, 4.29794912e-01, 4.00930535e-01, 3.71662456e-01,\n",
              "       3.42020143e-01, 3.12033446e-01, 2.81732557e-01, 2.51147987e-01,\n",
              "       2.20310533e-01, 1.89251244e-01, 1.58001396e-01, 1.26592454e-01,\n",
              "       9.50560433e-02, 6.34239197e-02, 3.17279335e-02, 1.22464680e-16])"
            ]
          },
          "metadata": {},
          "execution_count": 82
        }
      ]
    },
    {
      "cell_type": "code",
      "source": [
        "w = np.zeros_like(x)\n",
        "w"
      ],
      "metadata": {
        "colab": {
          "base_uri": "https://localhost:8080/"
        },
        "id": "SEK9f09fRDLj",
        "outputId": "d9257634-6bb7-4f37-8210-6a116a8596cc"
      },
      "execution_count": 83,
      "outputs": [
        {
          "output_type": "execute_result",
          "data": {
            "text/plain": [
              "array([0., 0., 0., 0., 0., 0., 0., 0., 0., 0., 0., 0., 0., 0., 0., 0., 0.,\n",
              "       0., 0., 0., 0., 0., 0., 0., 0., 0., 0., 0., 0., 0., 0., 0., 0., 0.,\n",
              "       0., 0., 0., 0., 0., 0., 0., 0., 0., 0., 0., 0., 0., 0., 0., 0., 0.,\n",
              "       0., 0., 0., 0., 0., 0., 0., 0., 0., 0., 0., 0., 0., 0., 0., 0., 0.,\n",
              "       0., 0., 0., 0., 0., 0., 0., 0., 0., 0., 0., 0., 0., 0., 0., 0., 0.,\n",
              "       0., 0., 0., 0., 0., 0., 0., 0., 0., 0., 0., 0., 0., 0., 0.])"
            ]
          },
          "metadata": {},
          "execution_count": 83
        }
      ]
    },
    {
      "cell_type": "markdown",
      "source": [
        "Impremir arreglos"
      ],
      "metadata": {
        "id": "jgvCF052BDSx"
      }
    },
    {
      "cell_type": "code",
      "source": [
        "a = np.arange(6)\n",
        "print(a)"
      ],
      "metadata": {
        "id": "a9iSyz20SSRt",
        "colab": {
          "base_uri": "https://localhost:8080/"
        },
        "outputId": "3f40643b-ecb1-4f38-da70-f1777e40b160"
      },
      "execution_count": 84,
      "outputs": [
        {
          "output_type": "stream",
          "name": "stdout",
          "text": [
            "[0 1 2 3 4 5]\n"
          ]
        }
      ]
    },
    {
      "cell_type": "code",
      "source": [
        "#Reshape permite transformar un vector en arreglo multimencional  \n",
        "b = np.arange(12).reshape(4, 3)\n",
        "print(b)"
      ],
      "metadata": {
        "colab": {
          "base_uri": "https://localhost:8080/"
        },
        "id": "p_WsrwXgBSnP",
        "outputId": "5c3ad216-dd76-412e-dd87-84f7b40bd11c"
      },
      "execution_count": 85,
      "outputs": [
        {
          "output_type": "stream",
          "name": "stdout",
          "text": [
            "[[ 0  1  2]\n",
            " [ 3  4  5]\n",
            " [ 6  7  8]\n",
            " [ 9 10 11]]\n"
          ]
        }
      ]
    },
    {
      "cell_type": "code",
      "source": [
        "c = np.arange(24).reshape(2,3,4)\n",
        "print(c)"
      ],
      "metadata": {
        "colab": {
          "base_uri": "https://localhost:8080/"
        },
        "id": "FSe4F8SUBqvL",
        "outputId": "0b4806cd-cdbb-44b8-c549-a05c6687dd20"
      },
      "execution_count": 86,
      "outputs": [
        {
          "output_type": "stream",
          "name": "stdout",
          "text": [
            "[[[ 0  1  2  3]\n",
            "  [ 4  5  6  7]\n",
            "  [ 8  9 10 11]]\n",
            "\n",
            " [[12 13 14 15]\n",
            "  [16 17 18 19]\n",
            "  [20 21 22 23]]]\n"
          ]
        }
      ]
    },
    {
      "cell_type": "markdown",
      "source": [
        "Operaciones basicas "
      ],
      "metadata": {
        "id": "yzAP4kUACQUu"
      }
    },
    {
      "cell_type": "code",
      "source": [
        "a = np.arange(4)\n",
        "b = np.array([20,30,40,50])\n",
        "\n",
        "c = a - b\n",
        "print('El valor de C es: ', c)\n",
        "\n",
        "d = b**2\n",
        "print('El valor de D es: ', d)\n",
        "w = np.sin(a)\n",
        "\n",
        "print('El sin del arregle a es: ', w)\n",
        "\n",
        "b < 23\n"
      ],
      "metadata": {
        "colab": {
          "base_uri": "https://localhost:8080/"
        },
        "id": "CezsrmCmB2yl",
        "outputId": "a136778a-f9b1-4c65-f741-82084072abb6"
      },
      "execution_count": 87,
      "outputs": [
        {
          "output_type": "stream",
          "name": "stdout",
          "text": [
            "El valor de C es:  [-20 -29 -38 -47]\n",
            "El valor de D es:  [ 400  900 1600 2500]\n",
            "El sin del arregle a es:  [0.         0.84147098 0.90929743 0.14112001]\n"
          ]
        },
        {
          "output_type": "execute_result",
          "data": {
            "text/plain": [
              "array([ True, False, False, False])"
            ]
          },
          "metadata": {},
          "execution_count": 87
        }
      ]
    },
    {
      "cell_type": "code",
      "source": [
        "A = np.array([[1,2], [2, 3]])\n",
        "B = np.array([[3,5], [2, 4]])\n",
        "\n",
        "#Product element wise\n",
        "print('El producto element wise A * B es')\n",
        "A * B\n",
        "\n",
        "#Producto de matrices\n",
        "print('El producto matricial es')\n",
        "A @ B\n",
        "\n",
        "#Producto punto de A . B es\n",
        "print('El producto punto A . B es')\n",
        "A.dot(B)\n"
      ],
      "metadata": {
        "colab": {
          "base_uri": "https://localhost:8080/"
        },
        "id": "b820dopkCwui",
        "outputId": "9d0b1a82-65fc-4014-8b0a-0426448aa0de"
      },
      "execution_count": 88,
      "outputs": [
        {
          "output_type": "stream",
          "name": "stdout",
          "text": [
            "El producto element wise A * B es\n",
            "El producto matricial es\n",
            "El producto punto A . B es\n"
          ]
        },
        {
          "output_type": "execute_result",
          "data": {
            "text/plain": [
              "array([[ 7, 13],\n",
              "       [12, 22]])"
            ]
          },
          "metadata": {},
          "execution_count": 88
        }
      ]
    },
    {
      "cell_type": "code",
      "source": [
        "rg = np.random.default_rng(1)\n",
        "a = np.ones((2, 3), dtype = int)\n",
        "b = rg.random((2,3))\n",
        "a *= 3\n",
        "a\n",
        "\n",
        "b += a\n",
        "b\n",
        "\n"
      ],
      "metadata": {
        "colab": {
          "base_uri": "https://localhost:8080/"
        },
        "id": "yrXSPen8Iwk0",
        "outputId": "b46adfbf-a89a-4c18-f36d-bbbbe70820b7"
      },
      "execution_count": 89,
      "outputs": [
        {
          "output_type": "execute_result",
          "data": {
            "text/plain": [
              "array([[3.51182162, 3.9504637 , 3.14415961],\n",
              "       [3.94864945, 3.31183145, 3.42332645]])"
            ]
          },
          "metadata": {},
          "execution_count": 89
        }
      ]
    },
    {
      "cell_type": "code",
      "source": [
        "a = np.ones(3, dtype = int)\n",
        "b = np.linspace(0, pi, 3)\n",
        "b.dtype.name\n",
        "\n",
        "c = a+b\n",
        "print(c)\n",
        "d = np.exp(c * 1j)\n",
        "print(d)\n",
        "d.dtype.name\n"
      ],
      "metadata": {
        "colab": {
          "base_uri": "https://localhost:8080/",
          "height": 72
        },
        "id": "MTwpgvbVJ6yQ",
        "outputId": "e5f58bb1-4cb6-4621-b2e0-147b49321093"
      },
      "execution_count": 90,
      "outputs": [
        {
          "output_type": "stream",
          "name": "stdout",
          "text": [
            "[1.         2.57079633 4.14159265]\n",
            "[ 0.54030231+0.84147098j -0.84147098+0.54030231j -0.54030231-0.84147098j]\n"
          ]
        },
        {
          "output_type": "execute_result",
          "data": {
            "application/vnd.google.colaboratory.intrinsic+json": {
              "type": "string"
            },
            "text/plain": [
              "'complex128'"
            ]
          },
          "metadata": {},
          "execution_count": 90
        }
      ]
    },
    {
      "cell_type": "code",
      "source": [
        "#Operaciones unarias\n",
        "rg2 = np.random.default_rng(1)\n",
        "a = rg2.random((2,3))\n",
        "print(a)\n",
        "print('La suma de los elentos de la matrz A es: ', a.sum())\n",
        "print('El valor minimo de la matrz A es: ', a.min())\n",
        "print('El valor maximo de la matriz A es: ', a.max())\n"
      ],
      "metadata": {
        "colab": {
          "base_uri": "https://localhost:8080/"
        },
        "id": "B54hcSV3NW3F",
        "outputId": "0ac42bb4-0455-4622-ff0d-b28874559969"
      },
      "execution_count": 91,
      "outputs": [
        {
          "output_type": "stream",
          "name": "stdout",
          "text": [
            "[[0.51182162 0.9504637  0.14415961]\n",
            " [0.94864945 0.31183145 0.42332645]]\n",
            "La suma de los elentos de la matrz A es:  3.290252281866131\n",
            "El valor minimo de la matrz A es:  0.14415961271963373\n",
            "El valor maximo de la matriz A es:  0.9504636963259353\n"
          ]
        }
      ]
    },
    {
      "cell_type": "code",
      "source": [
        "b = np.arange(12). reshape(3, 4)\n",
        "print(b)\n",
        "print('La suma de cada columna es: ', b.sum(axis = 0))\n",
        "print('El valor minimo de b es: ', b.min(axis = 1))\n",
        "print('La suma acomulativa de cada colomna es: \\n', b.cumsum(axis = 1))"
      ],
      "metadata": {
        "colab": {
          "base_uri": "https://localhost:8080/"
        },
        "id": "bTfGIRZWN3xa",
        "outputId": "47ca6053-5da5-400e-eb48-e5d78c3bd137"
      },
      "execution_count": 92,
      "outputs": [
        {
          "output_type": "stream",
          "name": "stdout",
          "text": [
            "[[ 0  1  2  3]\n",
            " [ 4  5  6  7]\n",
            " [ 8  9 10 11]]\n",
            "La suma de cada columna es:  [12 15 18 21]\n",
            "El valor minimo de b es:  [0 4 8]\n",
            "La suma acomulativa de cada colomna es: \n",
            " [[ 0  1  3  6]\n",
            " [ 4  9 15 22]\n",
            " [ 8 17 27 38]]\n"
          ]
        }
      ]
    },
    {
      "cell_type": "markdown",
      "source": [
        "Funciones universales"
      ],
      "metadata": {
        "id": "cbK9dsgdTW1L"
      }
    },
    {
      "cell_type": "code",
      "source": [
        "B = np.arange(3)\n",
        "print('B: ', B)\n",
        "print('La exponencial de cada uno de los valores de la matriz B es: ', np.exp(B))\n",
        "print('La raiz cuadrada de cada uno de los valores de la metrz B es: ', np.sqrt(B))\n",
        "C = np.array([3,2,5])\n",
        "print('A mas B es: ', np.add(B, C))\n"
      ],
      "metadata": {
        "colab": {
          "base_uri": "https://localhost:8080/"
        },
        "id": "1wMXEnySS81P",
        "outputId": "1a3dc825-1c7a-47e1-b347-590f4574dbea"
      },
      "execution_count": 93,
      "outputs": [
        {
          "output_type": "stream",
          "name": "stdout",
          "text": [
            "B:  [0 1 2]\n",
            "La exponencial de cada uno de los valores de la matriz B es:  [1.         2.71828183 7.3890561 ]\n",
            "La raiz cuadrada de cada uno de los valores de la metrz B es:  [0.         1.         1.41421356]\n",
            "A mas B es:  [3 3 7]\n"
          ]
        }
      ]
    },
    {
      "cell_type": "markdown",
      "source": [
        "Las matrices unidemencionales se pueden dividir, indexar e iterar al igual que las listas de python"
      ],
      "metadata": {
        "id": "qppCcthLUkPe"
      }
    },
    {
      "cell_type": "code",
      "source": [
        "a = np.arange(10)**3\n",
        "print('El valor de a al cubo es: ', a)\n",
        "print('El valor de la tercera posicion de la matriz a es: ', a[2])\n",
        "print('Un sub vector de a es', a[2: 5])\n",
        "print('Añadir elementos en un subconjunto: ')\n",
        "sub_add_a = a[:6:2] = 1000\n",
        "print(sub_add_a)\n",
        "print('El vector en sentido contrario es: ', a[::-1])\n",
        "for i in a: \n",
        "  print(i**(1/3))\n",
        "b[-1:]\n"
      ],
      "metadata": {
        "colab": {
          "base_uri": "https://localhost:8080/"
        },
        "id": "uUr6re5ZUiwZ",
        "outputId": "fbb0c24a-a838-48c2-93d1-cf6d2a02090e"
      },
      "execution_count": 94,
      "outputs": [
        {
          "output_type": "stream",
          "name": "stdout",
          "text": [
            "El valor de a al cubo es:  [  0   1   8  27  64 125 216 343 512 729]\n",
            "El valor de la tercera posicion de la matriz a es:  8\n",
            "Un sub vector de a es [ 8 27 64]\n",
            "Añadir elementos en un subconjunto: \n",
            "1000\n",
            "El vector en sentido contrario es:  [ 729  512  343  216  125 1000   27 1000    1 1000]\n",
            "9.999999999999998\n",
            "1.0\n",
            "9.999999999999998\n",
            "3.0\n",
            "9.999999999999998\n",
            "4.999999999999999\n",
            "5.999999999999999\n",
            "6.999999999999999\n",
            "7.999999999999999\n",
            "8.999999999999998\n"
          ]
        },
        {
          "output_type": "execute_result",
          "data": {
            "text/plain": [
              "array([[ 8,  9, 10, 11]])"
            ]
          },
          "metadata": {},
          "execution_count": 94
        }
      ]
    },
    {
      "cell_type": "markdown",
      "source": [
        "Manipulacion de formas"
      ],
      "metadata": {
        "id": "s81cJiE-gSJe"
      }
    },
    {
      "cell_type": "code",
      "source": [
        "#Cambiando la forma de un array\n",
        "\n",
        "a = np.floor(10 * rg.random((3, 4)))\n",
        "print('El vector a es: \\n', a)\n",
        "print('Las dimensiones de la matriz a es: ', a.shape)\n",
        "print('Devuelve el arreglo en una dimension: ', a.ravel())\n",
        "print('Retorna el array con las dimensiones modificadas: ', a.reshape(6, 2))\n",
        "print('Retorna la transpuesta de la matriz a: \\n', a.T)\n",
        "print('Las dimensione de la matriz transpuesta es: ', a.T.shape)\n",
        "print('Redimensionando con resize es: ', a.resize((2, 6)))\n",
        "print('La redimension automatica es: \\n', a.reshape(3, -1))"
      ],
      "metadata": {
        "colab": {
          "base_uri": "https://localhost:8080/"
        },
        "id": "xN3WIxkFWmva",
        "outputId": "1c37ede3-3ef0-42e3-b827-1ed88d66a0f2"
      },
      "execution_count": 95,
      "outputs": [
        {
          "output_type": "stream",
          "name": "stdout",
          "text": [
            "El vector a es: \n",
            " [[8. 4. 5. 0.]\n",
            " [7. 5. 3. 7.]\n",
            " [3. 4. 1. 4.]]\n",
            "Las dimensiones de la matriz a es:  (3, 4)\n",
            "Devuelve el arreglo en una dimension:  [8. 4. 5. 0. 7. 5. 3. 7. 3. 4. 1. 4.]\n",
            "Retorna el array con las dimensiones modificadas:  [[8. 4.]\n",
            " [5. 0.]\n",
            " [7. 5.]\n",
            " [3. 7.]\n",
            " [3. 4.]\n",
            " [1. 4.]]\n",
            "Retorna la transpuesta de la matriz a: \n",
            " [[8. 7. 3.]\n",
            " [4. 5. 4.]\n",
            " [5. 3. 1.]\n",
            " [0. 7. 4.]]\n",
            "Las dimensione de la matriz transpuesta es:  (4, 3)\n",
            "Redimensionando con resize es:  None\n",
            "La redimension automatica es: \n",
            " [[8. 4. 5. 0.]\n",
            " [7. 5. 3. 7.]\n",
            " [3. 4. 1. 4.]]\n"
          ]
        }
      ]
    },
    {
      "cell_type": "code",
      "source": [
        "a = np.floor(10*rg.random((2,2)))\n",
        "print('La matriz a es: \\n', a)\n",
        "b = np.floor(10*rg.random((2,2)))\n",
        "print('La matriz b es: \\n')\n",
        "print('La apilacion vertical de las matrices es: \\n', np.vstack((a, b)))\n",
        "print('La apilacion horizontal de las matrices es: \\n', np.hstack((a, b)))"
      ],
      "metadata": {
        "colab": {
          "base_uri": "https://localhost:8080/"
        },
        "id": "86mtiLL5g6hL",
        "outputId": "f25f3c78-39ac-452f-ac4a-a74fe0ab661f"
      },
      "execution_count": 96,
      "outputs": [
        {
          "output_type": "stream",
          "name": "stdout",
          "text": [
            "La matriz a es: \n",
            " [[2. 2.]\n",
            " [7. 2.]]\n",
            "La matriz b es: \n",
            "\n",
            "La apilacion vertical de las matrices es: \n",
            " [[2. 2.]\n",
            " [7. 2.]\n",
            " [4. 9.]\n",
            " [9. 7.]]\n",
            "La apilacion horizontal de las matrices es: \n",
            " [[2. 2. 4. 9.]\n",
            " [7. 2. 9. 7.]]\n"
          ]
        }
      ]
    },
    {
      "cell_type": "code",
      "source": [
        "from numpy import newaxis\n",
        "print('apilacion horizontal para matriz 2x2: \\n', np.column_stack((a, b)))\n",
        "\n",
        "a = np.array([3,2.])\n",
        "b = np.array([3, 5])\n",
        "\n",
        "print('La apicacion con column stack es: \\n', np.column_stack((a, b)))\n",
        "print('La apilacion es diferente a column_stack: \\n', np.hstack((a, b)))\n",
        "print('La transposicion de a es: \\n', a[:, newaxis])\n",
        "print('la transposicion de a y b apilados es: \\n', np.column_stack((a[:, newaxis], b[:, newaxis])))\n",
        "print('La transposicion de a y b apilados con hstack es \\n', np.hstack((a[:, newaxis], b[:, newaxis])))"
      ],
      "metadata": {
        "colab": {
          "base_uri": "https://localhost:8080/"
        },
        "id": "oxXETQ1_CrdN",
        "outputId": "9ae0c6cd-35c9-46da-f18f-427529389402"
      },
      "execution_count": 97,
      "outputs": [
        {
          "output_type": "stream",
          "name": "stdout",
          "text": [
            "apilacion horizontal para matriz 2x2: \n",
            " [[2. 2. 4. 9.]\n",
            " [7. 2. 9. 7.]]\n",
            "La apicacion con column stack es: \n",
            " [[3. 3.]\n",
            " [2. 5.]]\n",
            "La apilacion es diferente a column_stack: \n",
            " [3. 2. 3. 5.]\n",
            "La transposicion de a es: \n",
            " [[3.]\n",
            " [2.]]\n",
            "la transposicion de a y b apilados es: \n",
            " [[3. 3.]\n",
            " [2. 5.]]\n",
            "La transposicion de a y b apilados con hstack es \n",
            " [[3. 3.]\n",
            " [2. 5.]]\n"
          ]
        }
      ]
    },
    {
      "cell_type": "markdown",
      "source": [
        "División de una matriz en varias más pequeñas"
      ],
      "metadata": {
        "id": "DFkZvR4ELbva"
      }
    },
    {
      "cell_type": "code",
      "source": [
        "a = np.floor(10*rg.random((2,12)))\n",
        "\n",
        "print('La matriz a es: \\n', a)\n",
        "print('La division en 3 de la matriz a es: \\n', np.hsplit(a, 3))\n",
        "print('la division de la matriz en la columna #N es: ', np.hsplit(a, (3, 4)))"
      ],
      "metadata": {
        "colab": {
          "base_uri": "https://localhost:8080/"
        },
        "id": "kZWx69_UGfEI",
        "outputId": "4e69bfdc-f658-4b89-93c3-e325a5cfe87e"
      },
      "execution_count": 98,
      "outputs": [
        {
          "output_type": "stream",
          "name": "stdout",
          "text": [
            "La matriz a es: \n",
            " [[5. 2. 1. 9. 5. 1. 6. 7. 6. 9. 0. 5.]\n",
            " [4. 0. 6. 8. 5. 2. 8. 5. 5. 7. 1. 8.]]\n",
            "La division en 3 de la matriz a es: \n",
            " [array([[5., 2., 1., 9.],\n",
            "       [4., 0., 6., 8.]]), array([[5., 1., 6., 7.],\n",
            "       [5., 2., 8., 5.]]), array([[6., 9., 0., 5.],\n",
            "       [5., 7., 1., 8.]])]\n",
            "la division de la matriz en la columna #N es:  [array([[5., 2., 1.],\n",
            "       [4., 0., 6.]]), array([[9.],\n",
            "       [8.]]), array([[5., 1., 6., 7., 6., 9., 0., 5.],\n",
            "       [5., 2., 8., 5., 5., 7., 1., 8.]])]\n"
          ]
        }
      ]
    },
    {
      "cell_type": "markdown",
      "source": [
        "Copias y vistas\n"
      ],
      "metadata": {
        "id": "MNgv0irUMozD"
      }
    },
    {
      "cell_type": "code",
      "source": [
        "#Sin copia en absoluto\n",
        "a = np.array([[0,1,2,3], [4,5,6,7], [8,9,10,11]])\n",
        "#No se crea un nuevo objeto\n",
        "b = a\n",
        "print(b)\n",
        "#Dos nombres diferentes apuntan a la misma direccion de memoria\n",
        "a is b\n",
        "\n",
        "#Python pasa los valores a las funciones como parametros mutables, por lo que la llamada no se copia\n",
        "def f(x):\n",
        "  print(id(x))\n",
        "\n",
        "print('La direccion de memoria de a es: ', id(a))\n",
        "print('La direccion de memoria de a es: ', f(a))"
      ],
      "metadata": {
        "colab": {
          "base_uri": "https://localhost:8080/"
        },
        "id": "gOIHkUlYMqL1",
        "outputId": "78a89182-26f3-4141-9f32-cc2cfb0d934f"
      },
      "execution_count": 99,
      "outputs": [
        {
          "output_type": "stream",
          "name": "stdout",
          "text": [
            "[[ 0  1  2  3]\n",
            " [ 4  5  6  7]\n",
            " [ 8  9 10 11]]\n",
            "La direccion de memoria de a es:  140697926822048\n",
            "140697926822048\n",
            "La direccion de memoria de a es:  None\n"
          ]
        }
      ]
    },
    {
      "cell_type": "code",
      "source": [
        "#Diferentes objetos de matriz pueden compartir los mismos datos\n",
        "\n",
        "c = a.view()\n",
        "\n",
        "c is a\n",
        "\n",
        "#C es una vista de los datos, verdadero\n",
        "c.base is a\n",
        "\n",
        "print('El valor de bandera de c es ', c.flags.owndata)\n",
        "#Las dimensiones a no cambian\n",
        "c = c.reshape((2, 6))\n",
        "print('Las dimensiones de a son: ', a.shape)\n",
        "#Cambia la data de a\n",
        "c[0, 4] = 1234\n",
        "print(a)\n",
        "#Cortar una matriz devuelve una vista de la misma\n",
        "\n",
        "s = a[:, 1:3]\n",
        "# s es una vista de s. Es diferente a s = 10\n",
        "s[:] = 10\n",
        "print(a)"
      ],
      "metadata": {
        "colab": {
          "base_uri": "https://localhost:8080/"
        },
        "id": "XwBT4ztyOqn9",
        "outputId": "0585f03d-8746-45ce-9671-754ca710b2e1"
      },
      "execution_count": 100,
      "outputs": [
        {
          "output_type": "stream",
          "name": "stdout",
          "text": [
            "El valor de bandera de c es  False\n",
            "Las dimensiones de a son:  (3, 4)\n",
            "[[   0    1    2    3]\n",
            " [1234    5    6    7]\n",
            " [   8    9   10   11]]\n",
            "[[   0   10   10    3]\n",
            " [1234   10   10    7]\n",
            " [   8   10   10   11]]\n"
          ]
        }
      ]
    },
    {
      "cell_type": "code",
      "source": [
        "#Copia profunda\n",
        "\n",
        "#Se crea un nuevo objeto de matriz \n",
        "d = a.copy()\n",
        "d is a\n"
      ],
      "metadata": {
        "colab": {
          "base_uri": "https://localhost:8080/"
        },
        "id": "R2AMo-ncO5D-",
        "outputId": "26d854fd-8c00-4d44-ad1e-64bcbd431068"
      },
      "execution_count": 102,
      "outputs": [
        {
          "output_type": "execute_result",
          "data": {
            "text/plain": [
              "False"
            ]
          },
          "metadata": {},
          "execution_count": 102
        }
      ]
    },
    {
      "cell_type": "code",
      "source": [
        "#d no comparte nada con a\n",
        "d.base is a"
      ],
      "metadata": {
        "colab": {
          "base_uri": "https://localhost:8080/"
        },
        "id": "TZrafzRzpYpf",
        "outputId": "5e52a95a-b5d0-4ade-adc1-f0e4131e4bd3"
      },
      "execution_count": 103,
      "outputs": [
        {
          "output_type": "execute_result",
          "data": {
            "text/plain": [
              "False"
            ]
          },
          "metadata": {},
          "execution_count": 103
        }
      ]
    },
    {
      "cell_type": "code",
      "source": [
        "d[0, 0] = 999"
      ],
      "metadata": {
        "id": "xzl52KPwpnTn"
      },
      "execution_count": 104,
      "outputs": []
    },
    {
      "cell_type": "code",
      "source": [
        "a\n"
      ],
      "metadata": {
        "colab": {
          "base_uri": "https://localhost:8080/"
        },
        "id": "33EXiwb4pr-K",
        "outputId": "72c191b8-9f04-45df-ad12-7a2ed9b5a9d5"
      },
      "execution_count": 105,
      "outputs": [
        {
          "output_type": "execute_result",
          "data": {
            "text/plain": [
              "array([[   0,   10,   10,    3],\n",
              "       [1234,   10,   10,    7],\n",
              "       [   8,   10,   10,   11]])"
            ]
          },
          "metadata": {},
          "execution_count": 105
        }
      ]
    },
    {
      "cell_type": "code",
      "source": [
        "a = np.arange(int(1e8))\n",
        "b = a[:100].copy()\n",
        "#la memoria de a puede ser liberada\n",
        "del a"
      ],
      "metadata": {
        "id": "Fe3TZ1JJptc0"
      },
      "execution_count": null,
      "outputs": []
    }
  ]
}