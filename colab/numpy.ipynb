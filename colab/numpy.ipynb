{
  "nbformat": 4,
  "nbformat_minor": 0,
  "metadata": {
    "colab": {
      "name": "numpy.ipynb",
      "provenance": [],
      "authorship_tag": "ABX9TyPBOreSBauQ01t+qyogkhu1",
      "include_colab_link": true
    },
    "kernelspec": {
      "name": "python3",
      "display_name": "Python 3"
    },
    "language_info": {
      "name": "python"
    }
  },
  "cells": [
    {
      "cell_type": "markdown",
      "metadata": {
        "id": "view-in-github",
        "colab_type": "text"
      },
      "source": [
        "<a href=\"https://colab.research.google.com/github/yeyomuri/numpy/blob/main/colab/numpy.ipynb\" target=\"_parent\"><img src=\"https://colab.research.google.com/assets/colab-badge.svg\" alt=\"Open In Colab\"/></a>"
      ]
    },
    {
      "cell_type": "markdown",
      "source": [
        "##Numpy\n",
        "\n",
        "Numpy es una libreria que nos permite gestionar vectores, matrices.\n",
        "\n",
        "A diferencia de las listas de Python, Numpy nos permite que nuestras listas sean staticas y no dinamicas. Esto va permitir optimizar nuestros arreglos ocupando menos espacio de memoria.\n",
        "\n",
        "El implementacion de numpy es vectorizada, facilitando la redundancia de crear ciclos dando como resultado menos lineas de código y menos erres de escritura\n",
        "\n",
        "La documentacion oficial esta en [Numpy](https://numpy.org/), y la guia rapida esta en [Guia Rapida](https://numpy.org/doc/stable/user/quickstart.html)\n"
      ],
      "metadata": {
        "id": "Iqq3AfQH66x7"
      }
    },
    {
      "cell_type": "code",
      "source": [
        "import numpy as np\n"
      ],
      "metadata": {
        "id": "C3XIKFc47OSi"
      },
      "execution_count": 1,
      "outputs": []
    },
    {
      "cell_type": "code",
      "source": [
        "#Creacion de un una matriz (2, 3)\n",
        "\n",
        "[[3,3,5], [3, 2, 1]]"
      ],
      "metadata": {
        "colab": {
          "base_uri": "https://localhost:8080/"
        },
        "id": "SOsKD6SK7rLW",
        "outputId": "11b36014-a947-4f5b-ea30-c6aaec723904"
      },
      "execution_count": 15,
      "outputs": [
        {
          "output_type": "execute_result",
          "data": {
            "text/plain": [
              "[[3, 3, 5], [3, 2, 1]]"
            ]
          },
          "metadata": {},
          "execution_count": 15
        }
      ]
    },
    {
      "cell_type": "code",
      "source": [
        "a = np.arange(15).reshape(3, 5)\n",
        "a"
      ],
      "metadata": {
        "colab": {
          "base_uri": "https://localhost:8080/"
        },
        "id": "RKKJKZXAHdri",
        "outputId": "c5bf30b6-95c4-4263-ba4b-ed5ed111b6dc"
      },
      "execution_count": 37,
      "outputs": [
        {
          "output_type": "execute_result",
          "data": {
            "text/plain": [
              "array([[ 0,  1,  2,  3,  4],\n",
              "       [ 5,  6,  7,  8,  9],\n",
              "       [10, 11, 12, 13, 14]])"
            ]
          },
          "metadata": {},
          "execution_count": 37
        }
      ]
    },
    {
      "cell_type": "code",
      "source": [
        "a.shape"
      ],
      "metadata": {
        "colab": {
          "base_uri": "https://localhost:8080/"
        },
        "id": "zicjnjZmHsZc",
        "outputId": "707a72ee-f40c-4845-f10a-003b3a81df87"
      },
      "execution_count": 20,
      "outputs": [
        {
          "output_type": "execute_result",
          "data": {
            "text/plain": [
              "(3, 5)"
            ]
          },
          "metadata": {},
          "execution_count": 20
        }
      ]
    },
    {
      "cell_type": "code",
      "source": [
        "a.dtype.name"
      ],
      "metadata": {
        "colab": {
          "base_uri": "https://localhost:8080/",
          "height": 36
        },
        "id": "xBMvW9ZAHt1m",
        "outputId": "666fcc55-9b4d-40d6-d34d-c1fd3cc6f5c8"
      },
      "execution_count": 25,
      "outputs": [
        {
          "output_type": "execute_result",
          "data": {
            "application/vnd.google.colaboratory.intrinsic+json": {
              "type": "string"
            },
            "text/plain": [
              "'int64'"
            ]
          },
          "metadata": {},
          "execution_count": 25
        }
      ]
    },
    {
      "cell_type": "code",
      "source": [
        "#Representa el tamaño en bytes del tipo de dato del arreglo int64 bit es equibalente a 8 ó (64/8)\n",
        "a.itemsize "
      ],
      "metadata": {
        "colab": {
          "base_uri": "https://localhost:8080/"
        },
        "id": "cMmW2y1fH4Nu",
        "outputId": "b8258ab5-d339-4812-e7b8-2854e8974903"
      },
      "execution_count": 38,
      "outputs": [
        {
          "output_type": "execute_result",
          "data": {
            "text/plain": [
              "8"
            ]
          },
          "metadata": {},
          "execution_count": 38
        }
      ]
    },
    {
      "cell_type": "code",
      "source": [
        "a.size"
      ],
      "metadata": {
        "colab": {
          "base_uri": "https://localhost:8080/"
        },
        "id": "89NGxM5OH8MT",
        "outputId": "41d3b1a1-fb34-4b54-b0f1-3048402801d5"
      },
      "execution_count": 40,
      "outputs": [
        {
          "output_type": "execute_result",
          "data": {
            "text/plain": [
              "15"
            ]
          },
          "metadata": {},
          "execution_count": 40
        }
      ]
    },
    {
      "cell_type": "code",
      "source": [
        "  type(a)"
      ],
      "metadata": {
        "colab": {
          "base_uri": "https://localhost:8080/"
        },
        "id": "V2OuIBT6JQ8g",
        "outputId": "29036be5-2a75-4529-debe-4aefc718145a"
      },
      "execution_count": 42,
      "outputs": [
        {
          "output_type": "execute_result",
          "data": {
            "text/plain": [
              "numpy.ndarray"
            ]
          },
          "metadata": {},
          "execution_count": 42
        }
      ]
    },
    {
      "cell_type": "code",
      "source": [
        "b = np.array([5,4,3])\n",
        "b"
      ],
      "metadata": {
        "colab": {
          "base_uri": "https://localhost:8080/"
        },
        "id": "Dc7Bb6kUJ5SL",
        "outputId": "52e48779-289b-414d-b8a4-635367bab837"
      },
      "execution_count": 45,
      "outputs": [
        {
          "output_type": "execute_result",
          "data": {
            "text/plain": [
              "array([5, 4, 3])"
            ]
          },
          "metadata": {},
          "execution_count": 45
        }
      ]
    },
    {
      "cell_type": "code",
      "source": [
        "type(b)"
      ],
      "metadata": {
        "colab": {
          "base_uri": "https://localhost:8080/"
        },
        "id": "DGFtkzNgKH8y",
        "outputId": "f0110541-ea64-40e6-ed21-604120e7ce58"
      },
      "execution_count": 46,
      "outputs": [
        {
          "output_type": "execute_result",
          "data": {
            "text/plain": [
              "numpy.ndarray"
            ]
          },
          "metadata": {},
          "execution_count": 46
        }
      ]
    },
    {
      "cell_type": "markdown",
      "source": [
        "##Creación de array"
      ],
      "metadata": {
        "id": "9zGxINwoKzJd"
      }
    },
    {
      "cell_type": "code",
      "source": [
        "a = np.array([2,3,4])\n",
        "a.dtype"
      ],
      "metadata": {
        "colab": {
          "base_uri": "https://localhost:8080/"
        },
        "id": "rdwkkkBlK2ZQ",
        "outputId": "1206f720-26b3-4389-bc62-08002ab14fd0"
      },
      "execution_count": 50,
      "outputs": [
        {
          "output_type": "execute_result",
          "data": {
            "text/plain": [
              "dtype('int64')"
            ]
          },
          "metadata": {},
          "execution_count": 50
        }
      ]
    },
    {
      "cell_type": "code",
      "source": [
        "b = np.array([2.4, 3.2, 5.4])\n",
        "b.dtype"
      ],
      "metadata": {
        "colab": {
          "base_uri": "https://localhost:8080/"
        },
        "id": "7GIvj8iwK98T",
        "outputId": "013e30ab-7566-4f64-f153-7c050a992060"
      },
      "execution_count": 48,
      "outputs": [
        {
          "output_type": "execute_result",
          "data": {
            "text/plain": [
              "dtype('float64')"
            ]
          },
          "metadata": {},
          "execution_count": 48
        }
      ]
    },
    {
      "cell_type": "code",
      "source": [
        "#Arreglo secuencia de secuencia de secuencia\n",
        "b = np.array([(3,2,1), (6,4,7)])\n",
        "b"
      ],
      "metadata": {
        "colab": {
          "base_uri": "https://localhost:8080/"
        },
        "id": "6FLLzH_qLE2s",
        "outputId": "695a3632-b721-4726-a82d-0746b56f6cf8"
      },
      "execution_count": 52,
      "outputs": [
        {
          "output_type": "execute_result",
          "data": {
            "text/plain": [
              "array([[3, 2, 1],\n",
              "       [6, 4, 7]])"
            ]
          },
          "metadata": {},
          "execution_count": 52
        }
      ]
    },
    {
      "cell_type": "code",
      "source": [
        "b = np.array([(3,4,6), (6,7,4)], dtype = complex)\n",
        "b"
      ],
      "metadata": {
        "colab": {
          "base_uri": "https://localhost:8080/"
        },
        "id": "5hU49zCaL-Bc",
        "outputId": "a87ac22d-44b5-4756-d0fe-ecc4ef3de391"
      },
      "execution_count": 55,
      "outputs": [
        {
          "output_type": "execute_result",
          "data": {
            "text/plain": [
              "array([[3.+0.j, 4.+0.j, 6.+0.j],\n",
              "       [6.+0.j, 7.+0.j, 4.+0.j]])"
            ]
          },
          "metadata": {},
          "execution_count": 55
        }
      ]
    },
    {
      "cell_type": "code",
      "source": [
        "#Creando una matriz de ceros\n",
        "np.zeros((3,4), dtype = np.int8)"
      ],
      "metadata": {
        "colab": {
          "base_uri": "https://localhost:8080/"
        },
        "id": "69z5jfdxMVpB",
        "outputId": "32a49497-aa39-40e7-d981-fea3eb6497c0"
      },
      "execution_count": 59,
      "outputs": [
        {
          "output_type": "execute_result",
          "data": {
            "text/plain": [
              "array([[0, 0, 0, 0],\n",
              "       [0, 0, 0, 0],\n",
              "       [0, 0, 0, 0]], dtype=int8)"
            ]
          },
          "metadata": {},
          "execution_count": 59
        }
      ]
    },
    {
      "cell_type": "code",
      "source": [
        "#Arreglo de arreglo\n",
        "a = np.ones((4, 3, 4), dtype = np.int16)\n",
        "a"
      ],
      "metadata": {
        "colab": {
          "base_uri": "https://localhost:8080/"
        },
        "id": "Cmoh-OsFNPyQ",
        "outputId": "53885d75-3edb-49a5-f435-a06fcc7a23af"
      },
      "execution_count": 67,
      "outputs": [
        {
          "output_type": "execute_result",
          "data": {
            "text/plain": [
              "array([[[1, 1, 1, 1],\n",
              "        [1, 1, 1, 1],\n",
              "        [1, 1, 1, 1]],\n",
              "\n",
              "       [[1, 1, 1, 1],\n",
              "        [1, 1, 1, 1],\n",
              "        [1, 1, 1, 1]],\n",
              "\n",
              "       [[1, 1, 1, 1],\n",
              "        [1, 1, 1, 1],\n",
              "        [1, 1, 1, 1]],\n",
              "\n",
              "       [[1, 1, 1, 1],\n",
              "        [1, 1, 1, 1],\n",
              "        [1, 1, 1, 1]]], dtype=int16)"
            ]
          },
          "metadata": {},
          "execution_count": 67
        }
      ]
    },
    {
      "cell_type": "code",
      "source": [
        "#Matriz de nulos \n",
        "np.empty((2, 3))\n"
      ],
      "metadata": {
        "colab": {
          "base_uri": "https://localhost:8080/"
        },
        "id": "91I9F1ZzNl_o",
        "outputId": "465d14a1-483c-4a27-abc8-8b95345ecd3c"
      },
      "execution_count": 71,
      "outputs": [
        {
          "output_type": "execute_result",
          "data": {
            "text/plain": [
              "array([[1.39069238e-309, 1.39069238e-309, 1.39069238e-309],\n",
              "       [1.39069238e-309, 1.39069238e-309, 1.39069238e-309]])"
            ]
          },
          "metadata": {},
          "execution_count": 71
        }
      ]
    },
    {
      "cell_type": "code",
      "source": [
        "#Generador de valores (arange)\n",
        "np.arange(10, 100, 3)"
      ],
      "metadata": {
        "colab": {
          "base_uri": "https://localhost:8080/"
        },
        "id": "a4lTaXFsOyyn",
        "outputId": "ad23d390-9637-4ae2-871b-4e11030da9ef"
      },
      "execution_count": 81,
      "outputs": [
        {
          "output_type": "execute_result",
          "data": {
            "text/plain": [
              "array([10, 13, 16, 19, 22, 25, 28, 31, 34, 37, 40, 43, 46, 49, 52, 55, 58,\n",
              "       61, 64, 67, 70, 73, 76, 79, 82, 85, 88, 91, 94, 97])"
            ]
          },
          "metadata": {},
          "execution_count": 81
        }
      ]
    },
    {
      "cell_type": "code",
      "source": [
        "#Generador distribuye numero de valores en un rango (linspace)\n",
        "np.linspace(0, 2, 90)"
      ],
      "metadata": {
        "colab": {
          "base_uri": "https://localhost:8080/"
        },
        "id": "-SyWzfeFPZms",
        "outputId": "5b6eb0ae-67b1-45e9-fab3-e763734c4cba"
      },
      "execution_count": 80,
      "outputs": [
        {
          "output_type": "execute_result",
          "data": {
            "text/plain": [
              "array([0.        , 0.02247191, 0.04494382, 0.06741573, 0.08988764,\n",
              "       0.11235955, 0.13483146, 0.15730337, 0.17977528, 0.20224719,\n",
              "       0.2247191 , 0.24719101, 0.26966292, 0.29213483, 0.31460674,\n",
              "       0.33707865, 0.35955056, 0.38202247, 0.40449438, 0.42696629,\n",
              "       0.4494382 , 0.47191011, 0.49438202, 0.51685393, 0.53932584,\n",
              "       0.56179775, 0.58426966, 0.60674157, 0.62921348, 0.65168539,\n",
              "       0.6741573 , 0.69662921, 0.71910112, 0.74157303, 0.76404494,\n",
              "       0.78651685, 0.80898876, 0.83146067, 0.85393258, 0.87640449,\n",
              "       0.8988764 , 0.92134831, 0.94382022, 0.96629213, 0.98876404,\n",
              "       1.01123596, 1.03370787, 1.05617978, 1.07865169, 1.1011236 ,\n",
              "       1.12359551, 1.14606742, 1.16853933, 1.19101124, 1.21348315,\n",
              "       1.23595506, 1.25842697, 1.28089888, 1.30337079, 1.3258427 ,\n",
              "       1.34831461, 1.37078652, 1.39325843, 1.41573034, 1.43820225,\n",
              "       1.46067416, 1.48314607, 1.50561798, 1.52808989, 1.5505618 ,\n",
              "       1.57303371, 1.59550562, 1.61797753, 1.64044944, 1.66292135,\n",
              "       1.68539326, 1.70786517, 1.73033708, 1.75280899, 1.7752809 ,\n",
              "       1.79775281, 1.82022472, 1.84269663, 1.86516854, 1.88764045,\n",
              "       1.91011236, 1.93258427, 1.95505618, 1.97752809, 2.        ])"
            ]
          },
          "metadata": {},
          "execution_count": 80
        }
      ]
    },
    {
      "cell_type": "code",
      "source": [
        "from numpy import pi\n",
        "x = np.linspace(0, pi, 100)\n",
        "f = np.sin(x)\n",
        "f"
      ],
      "metadata": {
        "colab": {
          "base_uri": "https://localhost:8080/"
        },
        "id": "rmJhIZOZPdrW",
        "outputId": "cafd36c4-f68d-4cd4-f88f-69dc1c77e15c"
      },
      "execution_count": 90,
      "outputs": [
        {
          "output_type": "execute_result",
          "data": {
            "text/plain": [
              "array([0.00000000e+00, 3.17279335e-02, 6.34239197e-02, 9.50560433e-02,\n",
              "       1.26592454e-01, 1.58001396e-01, 1.89251244e-01, 2.20310533e-01,\n",
              "       2.51147987e-01, 2.81732557e-01, 3.12033446e-01, 3.42020143e-01,\n",
              "       3.71662456e-01, 4.00930535e-01, 4.29794912e-01, 4.58226522e-01,\n",
              "       4.86196736e-01, 5.13677392e-01, 5.40640817e-01, 5.67059864e-01,\n",
              "       5.92907929e-01, 6.18158986e-01, 6.42787610e-01, 6.66769001e-01,\n",
              "       6.90079011e-01, 7.12694171e-01, 7.34591709e-01, 7.55749574e-01,\n",
              "       7.76146464e-01, 7.95761841e-01, 8.14575952e-01, 8.32569855e-01,\n",
              "       8.49725430e-01, 8.66025404e-01, 8.81453363e-01, 8.95993774e-01,\n",
              "       9.09631995e-01, 9.22354294e-01, 9.34147860e-01, 9.45000819e-01,\n",
              "       9.54902241e-01, 9.63842159e-01, 9.71811568e-01, 9.78802446e-01,\n",
              "       9.84807753e-01, 9.89821442e-01, 9.93838464e-01, 9.96854776e-01,\n",
              "       9.98867339e-01, 9.99874128e-01, 9.99874128e-01, 9.98867339e-01,\n",
              "       9.96854776e-01, 9.93838464e-01, 9.89821442e-01, 9.84807753e-01,\n",
              "       9.78802446e-01, 9.71811568e-01, 9.63842159e-01, 9.54902241e-01,\n",
              "       9.45000819e-01, 9.34147860e-01, 9.22354294e-01, 9.09631995e-01,\n",
              "       8.95993774e-01, 8.81453363e-01, 8.66025404e-01, 8.49725430e-01,\n",
              "       8.32569855e-01, 8.14575952e-01, 7.95761841e-01, 7.76146464e-01,\n",
              "       7.55749574e-01, 7.34591709e-01, 7.12694171e-01, 6.90079011e-01,\n",
              "       6.66769001e-01, 6.42787610e-01, 6.18158986e-01, 5.92907929e-01,\n",
              "       5.67059864e-01, 5.40640817e-01, 5.13677392e-01, 4.86196736e-01,\n",
              "       4.58226522e-01, 4.29794912e-01, 4.00930535e-01, 3.71662456e-01,\n",
              "       3.42020143e-01, 3.12033446e-01, 2.81732557e-01, 2.51147987e-01,\n",
              "       2.20310533e-01, 1.89251244e-01, 1.58001396e-01, 1.26592454e-01,\n",
              "       9.50560433e-02, 6.34239197e-02, 3.17279335e-02, 1.22464680e-16])"
            ]
          },
          "metadata": {},
          "execution_count": 90
        }
      ]
    },
    {
      "cell_type": "code",
      "source": [
        "w = np.zeros_like(x)\n",
        "w"
      ],
      "metadata": {
        "colab": {
          "base_uri": "https://localhost:8080/"
        },
        "id": "SEK9f09fRDLj",
        "outputId": "99f325b0-a4bd-49b8-ddd6-4bcdc772d282"
      },
      "execution_count": 91,
      "outputs": [
        {
          "output_type": "execute_result",
          "data": {
            "text/plain": [
              "array([0., 0., 0., 0., 0., 0., 0., 0., 0., 0., 0., 0., 0., 0., 0., 0., 0.,\n",
              "       0., 0., 0., 0., 0., 0., 0., 0., 0., 0., 0., 0., 0., 0., 0., 0., 0.,\n",
              "       0., 0., 0., 0., 0., 0., 0., 0., 0., 0., 0., 0., 0., 0., 0., 0., 0.,\n",
              "       0., 0., 0., 0., 0., 0., 0., 0., 0., 0., 0., 0., 0., 0., 0., 0., 0.,\n",
              "       0., 0., 0., 0., 0., 0., 0., 0., 0., 0., 0., 0., 0., 0., 0., 0., 0.,\n",
              "       0., 0., 0., 0., 0., 0., 0., 0., 0., 0., 0., 0., 0., 0., 0.])"
            ]
          },
          "metadata": {},
          "execution_count": 91
        }
      ]
    },
    {
      "cell_type": "code",
      "source": [
        ""
      ],
      "metadata": {
        "id": "a9iSyz20SSRt"
      },
      "execution_count": null,
      "outputs": []
    }
  ]
}